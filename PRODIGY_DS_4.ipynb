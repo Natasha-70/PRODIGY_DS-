{
  "nbformat": 4,
  "nbformat_minor": 0,
  "metadata": {
    "colab": {
      "provenance": [],
      "mount_file_id": "1GvlaocUiFNDb60lT9LfjGPDihoNowr7k",
      "authorship_tag": "ABX9TyPik3K5iHxGH/haL/hP1P/6",
      "include_colab_link": true
    },
    "kernelspec": {
      "name": "python3",
      "display_name": "Python 3"
    },
    "language_info": {
      "name": "python"
    }
  },
  "cells": [
    {
      "cell_type": "markdown",
      "metadata": {
        "id": "view-in-github",
        "colab_type": "text"
      },
      "source": [
        "<a href=\"https://colab.research.google.com/github/Natasha-70/PRODIGY_DS-/blob/main/PRODIGY_DS_4.ipynb\" target=\"_parent\"><img src=\"https://colab.research.google.com/assets/colab-badge.svg\" alt=\"Open In Colab\"/></a>"
      ]
    },
    {
      "cell_type": "code",
      "execution_count": 1,
      "metadata": {
        "id": "NcupdUUWDZSm"
      },
      "outputs": [],
      "source": [
        "import pandas as pd\n",
        "from nltk.sentiment import SentimentIntensityAnalyzer\n",
        "import matplotlib.pyplot as plt\n",
        "import nltk\n",
        "\n"
      ]
    },
    {
      "cell_type": "code",
      "source": [
        "nltk.download('vader_lexicon')"
      ],
      "metadata": {
        "id": "Ifj0tK9EEXen",
        "outputId": "139d06e2-89eb-47a3-8347-179b104ae116",
        "colab": {
          "base_uri": "https://localhost:8080/"
        }
      },
      "execution_count": 9,
      "outputs": [
        {
          "output_type": "stream",
          "name": "stderr",
          "text": [
            "[nltk_data] Downloading package vader_lexicon to /root/nltk_data...\n",
            "[nltk_data]   Package vader_lexicon is already up-to-date!\n"
          ]
        },
        {
          "output_type": "execute_result",
          "data": {
            "text/plain": [
              "True"
            ]
          },
          "metadata": {},
          "execution_count": 9
        }
      ]
    },
    {
      "cell_type": "code",
      "source": [
        "# STEP 3: Load both datasets\n",
        "train_path =\"/content/drive/MyDrive/twitter_training.csv\"\n",
        "valid_path =\"/content/drive/MyDrive/twitter_validation.csv\""
      ],
      "metadata": {
        "id": "yoSbwL5wEbdx"
      },
      "execution_count": 3,
      "outputs": []
    },
    {
      "cell_type": "code",
      "source": [
        "df_train = pd.read_csv(train_path, header=None)\n",
        "df_valid = pd.read_csv(valid_path, header=None)"
      ],
      "metadata": {
        "id": "91Iem7HuTYgm"
      },
      "execution_count": 4,
      "outputs": []
    },
    {
      "cell_type": "code",
      "source": [
        "# Check shape and sample\n",
        "print(\"Train shape:\", df_train.shape)\n",
        "print(\"Validation shape:\", df_valid.shape)"
      ],
      "metadata": {
        "colab": {
          "base_uri": "https://localhost:8080/"
        },
        "id": "KloXJ2HITd7X",
        "outputId": "e4a3c933-20e5-48e6-fc87-95bfe00dd023"
      },
      "execution_count": 5,
      "outputs": [
        {
          "output_type": "stream",
          "name": "stdout",
          "text": [
            "Train shape: (74682, 4)\n",
            "Validation shape: (1000, 4)\n"
          ]
        }
      ]
    },
    {
      "cell_type": "code",
      "source": [
        "# STEP 4: Rename columns if they have no headers (assumes 3rd column is the tweet t\n",
        "df_train.columns = ['id', 'label', 'text', 'sentiment']\n",
        "df_valid.columns = ['id', 'label', 'text', 'sentiment']"
      ],
      "metadata": {
        "id": "MlVVQ2CRTlZC"
      },
      "execution_count": 6,
      "outputs": []
    },
    {
      "cell_type": "code",
      "source": [
        "# Combine both\n",
        "df = pd.concat([df_train[['text']], df_valid[['text']]], ignore_index=True)\n",
        "df.dropna(inplace=True)  # Remove empty tweets\n"
      ],
      "metadata": {
        "id": "1AeAe2xKTusb"
      },
      "execution_count": 7,
      "outputs": []
    },
    {
      "cell_type": "code",
      "source": [
        "# STEP 5: Apply sentiment analysis\n",
        "def get_sentiment(text):\n",
        "    score = sia.polarity_scores(str(text))['compound']\n",
        "    if score > 0.05:\n",
        "        return 'Positive'\n",
        "    elif score < -0.05:\n",
        "        return 'Negative'\n",
        "    else:\n",
        "        return 'Neutral'\n",
        "\n",
        "df['sentiment'] = df['text'].apply(get_sentiment)"
      ],
      "metadata": {
        "id": "lzb4nkvhT4wd"
      },
      "execution_count": 10,
      "outputs": []
    },
    {
      "cell_type": "code",
      "source": [
        "# STEP 6: Display sentiment counts and plot\n",
        "print(df['sentiment'].value_counts())"
      ],
      "metadata": {
        "colab": {
          "base_uri": "https://localhost:8080/"
        },
        "id": "_EdVS062UlMT",
        "outputId": "a6aaeaa4-dde9-4ab5-f19c-f2f308283217"
      },
      "execution_count": 11,
      "outputs": [
        {
          "output_type": "stream",
          "name": "stdout",
          "text": [
            "sentiment\n",
            "Neutral     31765\n",
            "Negative    22808\n",
            "Positive    21109\n",
            "Name: count, dtype: int64\n"
          ]
        }
      ]
    },
    {
      "cell_type": "code",
      "source": [
        "# Plot the sentiment distribution\n",
        "df['sentiment'].value_counts().plot(kind='bar', color=['green', 'red', 'gray'])\n",
        "plt.title(\"Sentiment Distribution\")\n",
        "plt.xlabel(\"Sentiment\")\n",
        "plt.ylabel(\"Number of Tweets\")\n",
        "plt.show()"
      ],
      "metadata": {
        "colab": {
          "base_uri": "https://localhost:8080/",
          "height": 520
        },
        "id": "YsodZGqXUrz1",
        "outputId": "3d97533b-75ff-4efb-b3c3-cda089624ac4"
      },
      "execution_count": 12,
      "outputs": [
        {
          "output_type": "display_data",
          "data": {
            "text/plain": [
              "<Figure size 640x480 with 1 Axes>"
            ],
            "image/png": "[encoded data removed]"
          },
          "metadata": {}
        }
      ]
    },
    {
      "cell_type": "code",
      "source": [],
      "metadata": {
        "id": "ExZqidHuU5eV"
      },
      "execution_count": null,
      "outputs": []
    }
  ]
}